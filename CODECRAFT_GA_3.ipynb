{
  "nbformat": 4,
  "nbformat_minor": 0,
  "metadata": {
    "colab": {
      "provenance": []
    },
    "kernelspec": {
      "name": "python3",
      "display_name": "Python 3"
    },
    "accelerator": "GPU"
  },
  "cells": [
    {
      "cell_type": "code",
      "source": [
        "!pip install gradio --quiet\n",
        "\n",
        "import gradio as gr\n",
        "import re\n",
        "import random\n",
        "\n",
        "opposites = {\n",
        "    \"sunny\": \"rainy\",\n",
        "    \"rainy\": \"sunny\",\n",
        "    \"good\": \"bad\",\n",
        "    \"bad\": \"good\",\n",
        "    \"happy\": \"sad\",\n",
        "    \"sad\": \"happy\",\n",
        "    \"hot\": \"cold\",\n",
        "    \"cold\": \"hot\",\n",
        "    \"love\": \"hate\",\n",
        "    \"hate\": \"love\",\n",
        "    \"success\": \"failure\",\n",
        "    \"failure\": \"success\"\n",
        "}\n",
        "\n",
        "\n",
        "def extract_keywords(sentence):\n",
        "    sentence = sentence.lower()\n",
        "    words = re.findall(r'\\b\\w+\\b', sentence)\n",
        "    keywords = [word for word in words if word in opposites]\n",
        "    return keywords\n",
        "\n",
        "def ai_sentence_prediction(sentence):\n",
        "    keywords = extract_keywords(sentence)\n",
        "    if not keywords:\n",
        "        return \"Sorry, no recognizable words to predict.\"\n",
        "    predictions = [f\"{word} 70% and {opposites[word]} 30%\" for word in keywords]\n",
        "    return \" | \".join(predictions)\n",
        "\n",
        "\n",
        "with gr.Blocks() as demo:\n",
        "    # Centered Main Heading\n",
        "    gr.Markdown(\"<h1 style='text-align:center; color:#4CAF50'> 🌟 AI Prediction Chat  🌟</h1>\", elem_id=\"main_heading\")\n",
        "\n",
        "\n",
        "\n",
        "    history_box = gr.Textbox(\n",
        "        label=\"Prediction History\",\n",
        "        interactive=False,\n",
        "        lines=12,\n",
        "        placeholder=\"Your predictions will appear here...\"\n",
        "    )\n",
        "\n",
        "    input_text = gr.Textbox(\n",
        "        label=\"Enter your sentence here...\",\n",
        "        lines=3,\n",
        "        placeholder=\"Type something here...\"\n",
        "    )\n",
        "\n",
        "\n",
        "    submit_btn = gr.Button(\"Generate Prediction\")\n",
        "\n",
        "\n",
        "    def submit_fn(sentence, history):\n",
        "        prediction = ai_sentence_prediction(sentence)\n",
        "\n",
        "        if history:\n",
        "            new_history = history + \"\\n\" + f\"--> {sentence}\\n{prediction}\"\n",
        "        else:\n",
        "            new_history = f\"--> {sentence}\\n{prediction}\"\n",
        "        return \"\", new_history  # Clear input, update history\n",
        "\n",
        "    submit_btn.click(\n",
        "        fn=submit_fn,\n",
        "        inputs=[input_text, history_box],\n",
        "        outputs=[input_text, history_box]\n",
        "    )\n",
        "\n",
        "demo.launch()\n"
      ],
      "metadata": {
        "id": "KJYUl5GA92hB",
        "colab": {
          "base_uri": "https://localhost:8080/",
          "height": 646
        },
        "outputId": "6516232f-2714-465b-de7a-d519c4693fd0"
      },
      "execution_count": 1,
      "outputs": [
        {
          "output_type": "stream",
          "name": "stdout",
          "text": [
            "It looks like you are running Gradio on a hosted Jupyter notebook, which requires `share=True`. Automatically setting `share=True` (you can turn this off by setting `share=False` in `launch()` explicitly).\n",
            "\n",
            "Colab notebook detected. To show errors in colab notebook, set debug=True in launch()\n",
            "* Running on public URL: https://88de2c7af9adbae31e.gradio.live\n",
            "\n",
            "This share link expires in 1 week. For free permanent hosting and GPU upgrades, run `gradio deploy` from the terminal in the working directory to deploy to Hugging Face Spaces (https://huggingface.co/spaces)\n"
          ]
        },
        {
          "output_type": "display_data",
          "data": {
            "text/plain": [
              "<IPython.core.display.HTML object>"
            ],
            "text/html": [
              "<div><iframe src=\"https://88de2c7af9adbae31e.gradio.live\" width=\"100%\" height=\"500\" allow=\"autoplay; camera; microphone; clipboard-read; clipboard-write;\" frameborder=\"0\" allowfullscreen></iframe></div>"
            ]
          },
          "metadata": {}
        },
        {
          "output_type": "execute_result",
          "data": {
            "text/plain": []
          },
          "metadata": {},
          "execution_count": 1
        }
      ]
    },
    {
      "cell_type": "code",
      "source": [],
      "metadata": {
        "id": "rsA1qJaI92de"
      },
      "execution_count": null,
      "outputs": []
    },
    {
      "cell_type": "code",
      "source": [],
      "metadata": {
        "id": "Qo06KKkS92Zw"
      },
      "execution_count": null,
      "outputs": []
    },
    {
      "cell_type": "code",
      "source": [],
      "metadata": {
        "id": "3Y7EyRKS92V4"
      },
      "execution_count": null,
      "outputs": []
    },
    {
      "cell_type": "code",
      "source": [],
      "metadata": {
        "id": "ODgrBPyj92Ne"
      },
      "execution_count": null,
      "outputs": []
    }
  ]
}